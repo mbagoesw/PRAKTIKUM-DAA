{
 "cells": [
  {
   "cell_type": "markdown",
   "metadata": {},
   "source": [
    "###### Desain dan Analisis Algoritma"
   ]
  },
  {
   "cell_type": "markdown",
   "metadata": {},
   "source": [
    "\n",
    "\n",
    "#### 1. Merge Sort : 21, 5, 9, 16, 30, 7"
   ]
  },
  {
   "cell_type": "code",
   "execution_count": 6,
   "metadata": {},
   "outputs": [],
   "source": [
    "def mergeSort(myList):\n",
    "    if len(myList) > 1:\n",
    "        mid = len(myList) // 2\n",
    "        left = myList[:mid]\n",
    "        right = myList[mid:]\n",
    "        \n",
    "        mergeSort(left)\n",
    "        mergeSort(right)\n",
    "        \n",
    "        x = 0\n",
    "        y = 0\n",
    "        z = 0\n",
    "        \n",
    "        while x < len(left) and y < len(right):\n",
    "            if left[x] < right[y]:\n",
    "                myList[z] = left[x]\n",
    "                x += 1\n",
    "            else:\n",
    "                myList[z] = right[y]\n",
    "                y +=1\n",
    "                \n",
    "            z += 1\n",
    "            \n",
    "        while x < len(left):\n",
    "            myList[y] = left[x]\n",
    "            x += 1\n",
    "            z += 1\n",
    "            \n",
    "        while y < len(right):\n",
    "            myList[z]=right[y]\n",
    "            y += 1\n",
    "            z += 1\n",
    "            \n",
    "myList = [21,5,9,16,30,7]\n",
    "mergeSort(myList)"
   ]
  },
  {
   "cell_type": "code",
   "execution_count": 10,
   "metadata": {},
   "outputs": [
    {
     "data": {
      "text/plain": [
       "[5, 7, 9, 16, 21, 30]"
      ]
     },
     "execution_count": 10,
     "metadata": {},
     "output_type": "execute_result"
    }
   ],
   "source": [
    "myList"
   ]
  },
  {
   "cell_type": "markdown",
   "metadata": {},
   "source": [
    "#### 2. Quick Sort : 17, 12, 57, 8, 16, 25"
   ]
  },
  {
   "cell_type": "code",
   "execution_count": 14,
   "metadata": {},
   "outputs": [],
   "source": [
    "def partition(arr,left,right):\n",
    "    a = (left-1)\n",
    "    pivot = arr[right]\n",
    "    \n",
    "    for b in range(left,right):\n",
    "        \n",
    "        if arr[b] <= pivot:\n",
    "            a+=1\n",
    "            arr[a],arr[b]=arr[b],arr[a]\n",
    "    \n",
    "    arr[a+1],arr[right] = arr[right],arr[a+1]\n",
    "    return (a+1)\n",
    "\n",
    "def quickSort(arr,left,right):\n",
    "    if len(arr) == 1:\n",
    "        return arr\n",
    "    if left < right:\n",
    "        \n",
    "        pi = partition(arr,left,right)\n",
    "        quickSort(arr,left,pi-1)\n",
    "        quickSort(arr,pi+1,right)"
   ]
  },
  {
   "cell_type": "code",
   "execution_count": 15,
   "metadata": {},
   "outputs": [
    {
     "data": {
      "text/plain": [
       "[8, 12, 16, 17, 25, 57]"
      ]
     },
     "execution_count": 15,
     "metadata": {},
     "output_type": "execute_result"
    }
   ],
   "source": [
    "arr = [17,12,57,8,16,25]\n",
    "quickSort(arr,0,len(arr)-1)\n",
    "arr"
   ]
  },
  {
   "cell_type": "code",
   "execution_count": null,
   "metadata": {},
   "outputs": [],
   "source": []
  }
 ],
 "metadata": {
  "kernelspec": {
   "display_name": "Python 3",
   "language": "python",
   "name": "python3"
  },
  "language_info": {
   "codemirror_mode": {
    "name": "ipython",
    "version": 3
   },
   "file_extension": ".py",
   "mimetype": "text/x-python",
   "name": "python",
   "nbconvert_exporter": "python",
   "pygments_lexer": "ipython3",
   "version": "3.8.3"
  }
 },
 "nbformat": 4,
 "nbformat_minor": 4
}
