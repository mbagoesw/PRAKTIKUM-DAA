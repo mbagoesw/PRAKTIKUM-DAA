{
 "cells": [
  {
   "cell_type": "markdown",
   "metadata": {},
   "source": [
    "## 1. Selection Sort"
   ]
  },
  {
   "cell_type": "code",
   "execution_count": 36,
   "metadata": {},
   "outputs": [],
   "source": [
    "def Selection_Sort(list):\n",
    "     for fill_slot in range(len(list) - 1, 0, -1):\n",
    "         max_index = 0\n",
    "         for location in range(1, fill_slot + 1):\n",
    "             if list[location] > list[max_index]:\n",
    "                 max_index = location\n",
    "         list[fill_slot],list[max_index] = list[max_index],list[fill_slot]\n",
    "     return list\n",
    "list = [89, 12, 57, 16, 25]"
   ]
  },
  {
   "cell_type": "code",
   "execution_count": 37,
   "metadata": {},
   "outputs": [
    {
     "data": {
      "text/plain": [
       "[12, 16, 25, 57, 89]"
      ]
     },
     "execution_count": 37,
     "metadata": {},
     "output_type": "execute_result"
    }
   ],
   "source": [
    "Selection_Sort(list)"
   ]
  },
  {
   "cell_type": "markdown",
   "metadata": {},
   "source": [
    "## 2. Insertion Sort"
   ]
  },
  {
   "cell_type": "code",
   "execution_count": 28,
   "metadata": {},
   "outputs": [],
   "source": [
    "def Insertion_Sort(list):\n",
    "     for i in range(1, len(list)):\n",
    "         j = i-1\n",
    "         next = list[i]\n",
    "\n",
    "         while (list[j] > next) and (j >= 0):\n",
    "            list[j+1] = list[j]\n",
    "            j=j-1\n",
    "            list[j+1] = next\n",
    "            return list\n",
    "list = [89, 12, 57, 16, 25, 11, 75]"
   ]
  },
  {
   "cell_type": "code",
   "execution_count": 29,
   "metadata": {},
   "outputs": [
    {
     "data": {
      "text/plain": [
       "[12, 89, 57, 16, 25, 11, 75]"
      ]
     },
     "execution_count": 29,
     "metadata": {},
     "output_type": "execute_result"
    }
   ],
   "source": [
    "Insertion_Sort(list)"
   ]
  },
  {
   "cell_type": "code",
   "execution_count": null,
   "metadata": {},
   "outputs": [],
   "source": []
  }
 ],
 "metadata": {
  "kernelspec": {
   "display_name": "Python 3",
   "language": "python",
   "name": "python3"
  },
  "language_info": {
   "codemirror_mode": {
    "name": "ipython",
    "version": 3
   },
   "file_extension": ".py",
   "mimetype": "text/x-python",
   "name": "python",
   "nbconvert_exporter": "python",
   "pygments_lexer": "ipython3",
   "version": "3.8.3"
  }
 },
 "nbformat": 4,
 "nbformat_minor": 4
}
